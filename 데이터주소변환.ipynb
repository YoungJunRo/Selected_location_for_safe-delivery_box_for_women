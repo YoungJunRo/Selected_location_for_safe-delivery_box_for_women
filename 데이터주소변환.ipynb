{
 "cells": [
  {
   "cell_type": "code",
   "execution_count": 27,
   "metadata": {},
   "outputs": [
    {
     "name": "stdout",
     "output_type": "stream",
     "text": [
      "                   도로명주소\n",
      "0      서울특별시 강남구 개포로 617\n",
      "1  서울특별시 강남구 테헤란로114길 11\n",
      "0        서울특별시 강남구 개포로 617\n",
      "1    서울특별시 강남구 테헤란로114길 11\n",
      "Name: 도로명주소, dtype: object\n",
      "0        서울특별시 강남구 개포로 617\n",
      "1    서울특별시 강남구 테헤란로114길 11\n",
      "Name: 도로명주소, dtype: object\n"
     ]
    }
   ],
   "source": [
    "import pandas as pd\n",
    "from geopy.geocoders import Nominatim"
   ]
  },
  {
   "cell_type": "code",
   "execution_count": 21,
   "metadata": {},
   "outputs": [
    {
     "name": "stdout",
     "output_type": "stream",
     "text": [
      "                   도로명주소\n",
      "0      서울특별시 강남구 개포로 617\n",
      "1  서울특별시 강남구 테헤란로114길 11\n"
     ]
    }
   ],
   "source": [
    "geo_local = Nominatim(user_agent='South Korea')\n",
    "def geocoding(address):\n",
    "    geo = geo_local.geocode(address)\n",
    "    x_y = [geo.latitude, geo.longitude]\n",
    "    return x_y\n"
   ]
  },
  {
   "cell_type": "code",
   "execution_count": 22,
   "metadata": {},
   "outputs": [
    {
     "name": "stdout",
     "output_type": "stream",
     "text": [
      "0        서울특별시 강남구 개포로 617\n",
      "1    서울특별시 강남구 테헤란로114길 11\n",
      "Name: 도로명주소, dtype: object\n"
     ]
    }
   ],
   "source": [
    "address= csv['도로명주소']\n",
    "print(address.head())"
   ]
  },
  {
   "cell_type": "code",
   "execution_count": 23,
   "metadata": {},
   "outputs": [
    {
     "name": "stdout",
     "output_type": "stream",
     "text": [
      "0        서울특별시 강남구 개포로 617\n",
      "1    서울특별시 강남구 테헤란로114길 11\n",
      "Name: 도로명주소, dtype: object\n"
     ]
    }
   ],
   "source": [
    "for i in range(len(address)):\n",
    "    a = address[i].split(' ')\n",
    "    address[i] = \" \".join(a[0:4])\n",
    "print(address)"
   ]
  },
  {
   "cell_type": "code",
   "execution_count": 24,
   "metadata": {},
   "outputs": [],
   "source": [
    "geo_local = Nominatim(user_agent='South Korea')\n",
    "def geocoding(address):\n",
    "    geo = geo_local.geocode(address)\n",
    "    x_y = [geo.latitude, geo.longitude]\n",
    "    return x_y\n"
   ]
  },
  {
   "cell_type": "code",
   "execution_count": 25,
   "metadata": {},
   "outputs": [],
   "source": [
    "latitude = []\n",
    "longitude =[]\n",
    "\n",
    "for i in address:\n",
    "    try:\n",
    "        latitude.append(geocoding(i)[0])\n",
    "        longitude.append(geocoding(i)[1])\n",
    "    except:\n",
    "        latitude.append('err')\n",
    "        longitude.append('err')"
   ]
  },
  {
   "cell_type": "code",
   "execution_count": 19,
   "metadata": {},
   "outputs": [],
   "source": [
    "address_df = pd.DataFrame({'주소':address,'위도':latitude,'경도':longitude})\n",
    "\n",
    "#address_df.to_csv('./data/conv_postbox.csv', encoding='cp949')\n",
    "#address_df.to_csv('./data/conv_small_police.csv', encoding='cp949')\n",
    "address_df.to_csv('./data/gu_police_station.csv', encoding='cp949')"
   ]
  },
  {
   "cell_type": "code",
   "execution_count": 20,
   "metadata": {},
   "outputs": [],
   "source": [
    "address_df = pd.DataFrame({'주소':address,'위도':latitude,'경도':longitude})\n",
    "\n",
    "#address_df.to_csv('./data/conv_postbox.csv', encoding='cp949')\n",
    "address_df.to_csv('./data/conv_small_police.csv', encoding='cp949')"
   ]
  },
  {
   "cell_type": "code",
   "execution_count": null,
   "metadata": {},
   "outputs": [],
   "source": []
  }
 ],
 "metadata": {
  "interpreter": {
   "hash": "004de6046f1b3d314f33fdb43a2dc798b2646e5600efd8df5066c8b63a00ff6d"
  },
  "kernelspec": {
   "display_name": "Python 3.8.6 64-bit",
   "language": "python",
   "name": "python3"
  },
  "language_info": {
   "codemirror_mode": {
    "name": "ipython",
    "version": 3
   },
   "file_extension": ".py",
   "mimetype": "text/x-python",
   "name": "python",
   "nbconvert_exporter": "python",
   "pygments_lexer": "ipython3",
   "version": "3.8.6"
  },
  "orig_nbformat": 4
 },
 "nbformat": 4,
 "nbformat_minor": 2
}

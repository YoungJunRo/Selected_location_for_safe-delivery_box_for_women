{
 "cells": [
  {
   "cell_type": "code",
   "execution_count": null,
   "id": "1b5af2fa",
   "metadata": {},
   "outputs": [],
   "source": [
    "import geopandas as gpd\n",
    "import geopandas\n",
    "import matplotlib.pyplot as plt\n",
    "import matplotlib as mpl\n",
    "import numpy as np\n",
    "import platform\n",
    "from matplotlib import font_manager, rc\n",
    "import pandas as pd\n",
    "import folium\n",
    "import branca\n",
    "from shapely.geometry.point import Point"
   ]
  },
  {
   "cell_type": "code",
   "execution_count": null,
   "id": "f0dd91db",
   "metadata": {},
   "outputs": [],
   "source": [
    "postbox_locate = pd.read_csv('./data/conv_gu_postbox.csv', encoding='cp949')\n",
    "postbox_locate.head(2)"
   ]
  },
  {
   "cell_type": "code",
   "execution_count": null,
   "id": "f5827967",
   "metadata": {},
   "outputs": [],
   "source": [
    "r = 500\n",
    "postbox_locate['geom'] = postbox_locate.apply(lambda r: Point(r['경도'], r['위도']), axis=1)\n",
    "gdf = gpd.GeoDataFrame(postbox_locate, geometry='geom', crs='epsg:4326')\n",
    "gdf_flat = gdf.to_crs('epsg:6347')\n",
    "gdf_flat['geom'] = gdf_flat.geometry.buffer(r)\n",
    "gdf = gdf_flat.to_crs('epsg:4326')\n",
    "gdf.head(2)"
   ]
  },
  {
   "cell_type": "code",
   "execution_count": null,
   "id": "a37adab0",
   "metadata": {},
   "outputs": [],
   "source": [
    "u = gdf.iloc[0,3]\n",
    "for _, row in gdf.iterrows():\n",
    "    u = u.union(row['geom'])\n",
    "\n",
    "lats = np.array(gdf['위도'])\n",
    "lons = np.array(gdf['경도'])"
   ]
  },
  {
   "cell_type": "code",
   "execution_count": null,
   "id": "fca4bd46",
   "metadata": {},
   "outputs": [],
   "source": [
    "lat_c = '37.498095'\n",
    "lon_c = '127.027610'\n",
    "\n",
    "m = folium.Map([lat_c, lon_c], zoom_start = 13)\n",
    "for lat, lon in zip(lats, lons):\n",
    "    folium.Circle(location = [lat, lon], radius = r, color='black', fill_color = 'purple', weight=1).add_to(m)\n",
    "m.save('./map/postbox_area_covered.html')\n",
    "m"
   ]
  },
  {
   "cell_type": "code",
   "execution_count": null,
   "id": "38574341",
   "metadata": {},
   "outputs": [],
   "source": [
    "nlsp = geopandas.read_file('./data/nlsp_021001003.shp',encoding = 'utf8')\n",
    "nlsp.head(2)"
   ]
  },
  {
   "cell_type": "code",
   "execution_count": null,
   "id": "394b48c8",
   "metadata": {},
   "outputs": [],
   "source": [
    "nlsp = nlsp.drop(columns=['val'])\n",
    "nlsp = nlsp.to_crs(epsg=4326)\n",
    "nlsp = nlsp.fillna(0)\n",
    "nlsp.head(2)"
   ]
  },
  {
   "cell_type": "code",
   "execution_count": null,
   "id": "d295c2f3",
   "metadata": {},
   "outputs": [],
   "source": [
    "def cal_area(poly, file):\n",
    "    area = poly.area\n",
    "    intersection = poly.intersection(file).area\n",
    "    return intersection / area"
   ]
  },
  {
   "cell_type": "code",
   "execution_count": null,
   "id": "aed4f2cf",
   "metadata": {
    "scrolled": false
   },
   "outputs": [],
   "source": [
    "m2 = folium.Map([lat_c, lon_c], zoom_start = 13)\n",
    "for _, row in nlsp.iterrows():\n",
    "    value = 1 - cal_area(row['geometry'], u)\n",
    "    sim_geo = gpd.GeoSeries(row['geometry'])\n",
    "    geo_j = sim_geo.to_json()\n",
    "    color = plt.cm.OrRd(value)\n",
    "    color = mpl.colors.to_hex(color)\n",
    "    \n",
    "    geo_j = folium.GeoJson(data=geo_j,\n",
    "                        style_function=lambda feature, color=color: {\n",
    "                                                                        'fillColor': color,\n",
    "                                                                        'color':\"black\",\n",
    "                                                                        'weight': 2,\n",
    "                                                                        'dashArray': '5, 5',\n",
    "                                                                        'fillOpacity': 0.8,\n",
    "                                                                    })\n",
    "\n",
    "\n",
    "    folium.Popup(f'{value:.3f}').add_to(geo_j)\n",
    "    geo_j.add_to(m2)\n",
    "\n",
    "colormap = branca.colormap.linear.OrRd_06.scale(0, 1)\n",
    "colormap = colormap.to_step(index=np.linspace(0, 1, 1000))\n",
    "colormap.caption = 'Area Ratio NOT Covered by postbox_area'\n",
    "colormap.add_to(m2)\n",
    "m2.save('./map/postbox_area.html')\n",
    "m2"
   ]
  },
  {
   "cell_type": "markdown",
   "id": "e425b1a2",
   "metadata": {},
   "source": [
    "**$w_i = lbl \\times AreaRatio \\times restaurant \\times bar \\times academy $**\n",
    "\n",
    "- $w_i$ : 수요량\n",
    "- $lbl$ : 주거 인구 비례\n",
    "- $restaurant$ : 식당가\n",
    "- $bar$ : 유흥주점\n",
    "- $academy$ : 학원\n",
    "- $AreaRatio$ : 커버되지않은 면적 비율 (0~1)"
   ]
  },
  {
   "cell_type": "code",
   "execution_count": null,
   "id": "59b15511",
   "metadata": {},
   "outputs": [],
   "source": [
    "r_met=250\n",
    "metro = pd.read_csv('./data/conv_gu_metro.csv',\n",
    "                    encoding='utf-8',\n",
    "                    sep=\",\")\n",
    "metro['geom'] = metro.apply(lambda r_met: Point(r_met['경도'], r_met['위도']), axis=1)\n",
    "met_gdf = gpd.GeoDataFrame(metro, geometry='geom', crs='epsg:4326')\n",
    "met_gdf_flat = met_gdf.to_crs('epsg:4326')\n",
    "met_gdf_flat['geom'] = met_gdf_flat.geometry.buffer(r_met)\n",
    "met_gdf = met_gdf_flat.to_crs('epsg:4326')\n",
    "\n",
    "met_u = met_gdf.iloc[0,2]\n",
    "for _, row in met_gdf.iterrows():\n",
    "    met_u = met_u.union(row['geom'])\n",
    "\n",
    "met_lats = np.array(met_gdf['위도'])\n",
    "met_lons = np.array(met_gdf['경도'])\n",
    "#######################################################################################\n",
    "r_pol=500\n",
    "police = pd.read_csv('./data/conv_police_station.csv',\n",
    "                    encoding='cp949',\n",
    "                    sep=\",\")\n",
    "police['geom'] = police.apply(lambda r_pol: Point(r_pol['경도'], r_pol['위도']), axis=1)\n",
    "pol_gdf = gpd.GeoDataFrame(police, geometry='geom', crs='epsg:4326')\n",
    "pol_gdf_flat = pol_gdf.to_crs('epsg:4326')\n",
    "pol_gdf_flat['geom'] = pol_gdf_flat.geometry.buffer(r_pol)\n",
    "pol_gdf = pol_gdf_flat.to_crs('epsg:4326')\n",
    "\n",
    "pol_u = pol_gdf.iloc[0,3]\n",
    "for _, row in pol_gdf.iterrows():\n",
    "    pol_u = pol_u.union(row['geom'])\n",
    "\n",
    "pol_lats = np.array(pol_gdf['위도'])\n",
    "pol_lons = np.array(pol_gdf['경도'])\n",
    "#######################################################################################\n",
    "r_spol=250\n",
    "spolice = pd.read_csv('./data/conv_small_police.csv',\n",
    "                    encoding='cp949',\n",
    "                    sep=\",\")\n",
    "spolice['geom'] = spolice.apply(lambda r_spol: Point(r_spol['경도'], r_spol['위도']), axis=1)\n",
    "spol_gdf = gpd.GeoDataFrame(spolice, geometry='geom', crs='epsg:4326')\n",
    "spol_gdf_flat = spol_gdf.to_crs('epsg:4326')\n",
    "spol_gdf_flat['geom'] = spol_gdf_flat.geometry.buffer(r_spol)\n",
    "spol_gdf = spol_gdf_flat.to_crs('epsg:4326')\n",
    "\n",
    "spol_u = spol_gdf.iloc[0,2]\n",
    "for _, row in spol_gdf.iterrows():\n",
    "    spol_u = spol_u.union(row['geom'])\n",
    "\n",
    "spol_lats = np.array(spol_gdf['위도'])\n",
    "spol_lons = np.array(spol_gdf['경도'])\n",
    "\n",
    "#######################################################################################\n",
    "r_dep=250\n",
    "department = pd.read_csv('./data/conv_gu_dep.csv',\n",
    "                    encoding='utf-8',\n",
    "                    sep=\",\")\n",
    "department['geom'] = department.apply(lambda r_dep: Point(r_dep['경도'], r_dep['위도']), axis=1)\n",
    "dep_gdf = gpd.GeoDataFrame(department, geometry='geom', crs='epsg:4326')\n",
    "dep_gdf_flat = dep_gdf.to_crs('epsg:4326')\n",
    "dep_gdf_flat['geom'] = dep_gdf_flat.geometry.buffer(r_dep)\n",
    "dep_gdf = dep_gdf_flat.to_crs('epsg:4326')\n",
    "\n",
    "dep_u = dep_gdf.iloc[0,2]\n",
    "for _, row in dep_gdf.iterrows():\n",
    "    dep_u = dep_u.union(row['geom'])\n",
    "\n",
    "dep_lats = np.array(dep_gdf['위도'])\n",
    "dep_lons = np.array(dep_gdf['경도'])"
   ]
  },
  {
   "cell_type": "code",
   "execution_count": null,
   "id": "55552b7a",
   "metadata": {},
   "outputs": [],
   "source": [
    "m3_nlsp = nlsp.replace(to_replace = 'N/A', value = 0)\n",
    "m3_nlsp = m3_nlsp.astype({'lbl':float})"
   ]
  },
  {
   "cell_type": "code",
   "execution_count": null,
   "id": "0a403ccf",
   "metadata": {
    "scrolled": true
   },
   "outputs": [],
   "source": [
    "m3 = folium.Map([lat_c, lon_c], zoom_start = 13)\n",
    "values = []\n",
    "cnt = 0\n",
    "for _, row in m3_nlsp.iterrows():\n",
    "    value = (1-cal_area(row['geometry'], u)) * (row['lbl']) * ( 1 - 0.5 * cal_area(row['geometry'], pol_u)) * (1 - 0.3 * cal_area(row['geometry'], spol_u)) * (1 + 0.8 * cal_area(row['geometry'], met_u)) * (1 + 0.6 * cal_area(row['geometry'], dep_u))\n",
    "    if value >= 0.0005:\n",
    "        cnt += 1\n",
    "    else:\n",
    "        value = 0\n",
    "    values.append(value)\n",
    "max_value = max(values)\n",
    "\n",
    "for i, row in m3_nlsp.iterrows():\n",
    "    value = values[i]\n",
    "    sim_geo = gpd.GeoSeries(row['geometry'])\n",
    "    geo_j = sim_geo.to_json()\n",
    "\n",
    "    color = plt.cm.Reds(value/max_value)\n",
    "    color = mpl.colors.to_hex(color)\n",
    "\n",
    "    if value == 0:\n",
    "        geo_j = folium.GeoJson(data=geo_j,\n",
    "                        style_function=lambda feature, color=color: {\n",
    "                                                                        'fillColor': color,\n",
    "                                                                        'color':\"black\",\n",
    "                                                                        'weight': 0.5,\n",
    "                                                                        'dashArray': '5, 5',\n",
    "                                                                        'fillOpacity': 0,\n",
    "                                                                    })\n",
    "    else:\n",
    "        geo_j = folium.GeoJson(data=geo_j,\n",
    "                        style_function=lambda feature, color=color: {\n",
    "                                                                        'fillColor': color,\n",
    "                                                                        'color':\"black\",\n",
    "                                                                        'weight': 0.5,\n",
    "                                                                        'dashArray': '5, 5',\n",
    "                                                                        'fillOpacity': 0.8,\n",
    "                                                                    })\n",
    "\n",
    "\n",
    "    folium.Popup(f'{value:.3f}').add_to(geo_j)\n",
    "    geo_j.add_to(m3)\n",
    "    \n",
    "colormap = branca.colormap.linear.Reds_05.scale(0, max_value)\n",
    "colormap = colormap.to_step(index=np.linspace(0, max_value, 1000))\n",
    "colormap.caption = 'Quantity demanded Area'\n",
    "colormap.add_to(m3)\n",
    "m3.save('./map/quantity_demanded_area.html')\n",
    "m3"
   ]
  },
  {
   "cell_type": "code",
   "execution_count": null,
   "id": "e05424ae",
   "metadata": {
    "scrolled": false
   },
   "outputs": [],
   "source": [
    "print(f'max_value : {max_value:.4f}')\n",
    "print(f'N_Grid(value>0) : {cnt}, N_Grid(All) : {len(m3_nlsp)}')\n",
    "print(f'Grid_Ratio : {cnt/len(m3_nlsp):.4f}')"
   ]
  },
  {
   "cell_type": "markdown",
   "id": "4e72cab1",
   "metadata": {},
   "source": [
    "# 2-2. MCLP\n",
    "- **M**aximal **C**overing **L**ocation **P**roblem\n",
    "\n",
    "- $\\mbox{Maximize} \\sum _{i\\in I}{w_iy_i}$\n",
    "-\n",
    "\n",
    "- Subject to\n",
    "    - $\\sum _{j\\in J}{x_j}=K$ : 배치되는 제설함의 최소개수 K\n",
    "    - $\\sum _{j\\in N_i}{x_j} \\ge y_i \\, \\forall i \\in I$\n",
    "- 변수\n",
    "    - $i$ : 수요 지점 index, $i \\in I$\n",
    "    - $j$ : 후보지 index, $j \\in J$\n",
    "    - $w_i$ : 수요량 (value)\n",
    "    - $S$ : 최대 서비스 거리 (208m)\n",
    "    - $K$ : 설치할 제설함의 수\n",
    "    - $d_{ij}$ : 수요 지점 $i$로부터 후보지 $j$까지의 거리\n",
    "    - $N_i=\\{j|d_{ij} \\le S \\}$ : 수요 지점 $i$로부터 서비스 거리 $S$ 안에 있는 후보지의 집합\n",
    "    - $x_i = \\begin{cases} 1, & \\text{제설함이 후보지 }j\\text{에 입점하면} \\\\\n",
    "    0, & \\mbox{otherwise} \\end{cases}$\n",
    "    - $y_j = \\begin{cases} 1, & \\text{수요 지점 }i\\text{가 적어도 하나의 제설함에 의해 서비스되면} \\\\\n",
    "    0, & \\mbox{otherwise} \\end{cases}$"
   ]
  },
  {
   "cell_type": "code",
   "execution_count": null,
   "id": "6d8d0caf",
   "metadata": {
    "scrolled": true
   },
   "outputs": [],
   "source": [
    "m3_nlsp['weight'] = values"
   ]
  },
  {
   "cell_type": "code",
   "execution_count": null,
   "id": "cf9a89c7",
   "metadata": {
    "scrolled": false
   },
   "outputs": [],
   "source": [
    "m3_nlsp['geo'] = nlsp['geometry'].to_crs(epsg=5179)\n",
    "m3_nlsp.head()"
   ]
  },
  {
   "cell_type": "code",
   "execution_count": null,
   "id": "48a2408c",
   "metadata": {},
   "outputs": [],
   "source": [
    "def generate_candidate_sites(df):\n",
    "    sites = []\n",
    "    for _, row in df.iterrows():\n",
    "        sites.append([row['geo'].centroid.coords[0][0], row['geo'].centroid.coords[0][1]])\n",
    "    return np.array(sites)\n",
    "\n",
    "\n",
    "def generate_candidate_sites(df, M):\n",
    "    sites = []\n",
    "    df_sorted = df.sort_values(by='weight', ascending=False)\n",
    "    for _, row in df_sorted[:M].iterrows():\n",
    "        sites.append([row['geo'].centroid.coords[0][0], row['geo'].centroid.coords[0][1]])\n",
    "    return np.array(sites)"
   ]
  },
  {
   "cell_type": "code",
   "execution_count": null,
   "id": "f86012fb",
   "metadata": {},
   "outputs": [],
   "source": [
    "from mip import Model, xsum, maximize, BINARY\n",
    "from scipy.spatial import distance_matrix\n",
    "import time\n",
    "from gurobipy import *\n",
    "\n",
    "def mclp(df, K, M, radius):\n",
    "    start = time.time()\n",
    "    sites = generate_candidate_sites(df, M)\n",
    "    I = J = sites.shape[0]\n",
    "    D = distance_matrix(sites, sites)\n",
    "    mask1 = D <= radius\n",
    "    D[mask1] = 1\n",
    "    D[~mask1] = 0\n",
    "\n",
    "    m = Model()\n",
    "\n",
    "    x = {}\n",
    "    y = {}\n",
    "    \n",
    "    for i in range(I):\n",
    "        y[i] = m.addVar(vtype=GRB.BINARY, name=f\"y{i}\")\n",
    "    for j in range(J):\n",
    "        x[j] = m.addVar(vtype=GRB.BINARY, name=f\"x{j}\")\n",
    "\n",
    "    m.update()\n",
    "    \n",
    "    # 제약식 추가\n",
    "    m.addConstr(quicksum(x[j] for j in range(J)) == K)\n",
    "\n",
    "    for i in range(I):\n",
    "        m.addConstr(quicksum(x[j] for j in np.where(D[i]==1)[0]) >= y[i])\n",
    "\n",
    "    m.setObjective(quicksum(y[i]for i in range(I)),GRB.MAXIMIZE)\n",
    "    m.setParam('OutputFlag', 0)\n",
    "    m.optimize()\n",
    "    end = time.time()\n",
    "    \n",
    "    solution = []\n",
    "    if m.status == GRB.Status.OPTIMAL:\n",
    "        for v in m.getVars():\n",
    "            if v.x==1 and v.varName[0]==\"x\":\n",
    "                solution.append(int(v.varName[1:]))\n",
    "    opt_sites = sites[solution]\n",
    "    return opt_sites, m.objVal"
   ]
  },
  {
   "cell_type": "code",
   "execution_count": null,
   "id": "89af65fd",
   "metadata": {},
   "outputs": [],
   "source": [
    "radius = 500\n",
    "K = 10\n",
    "M = cnt\n",
    "opt_sites_org, f = mclp(m3_nlsp, K, M, radius)\n",
    "print('커버되는 수요 지점의 개수 : {}'.format(f))"
   ]
  },
  {
   "cell_type": "code",
   "execution_count": null,
   "id": "8ad309f6",
   "metadata": {},
   "outputs": [],
   "source": [
    "opt_df= pd.DataFrame(opt_sites_org, columns=['lon', 'lat'])\n",
    "opt_df['geom'] = opt_df.apply(lambda r: Point(r['lon'], r['lat']), axis=1)\n",
    "gdf = gpd.GeoDataFrame(opt_df, geometry='geom', crs='epsg:5179')\n",
    "gdf = gdf.to_crs(epsg=4329)\n",
    "gdf['lon'] = gdf['geom'].apply(lambda p:p.x)\n",
    "gdf['lat'] = gdf['geom'].apply(lambda p:p.y)\n",
    "gdf.head(2)"
   ]
  },
  {
   "cell_type": "code",
   "execution_count": null,
   "id": "a55767bf",
   "metadata": {},
   "outputs": [],
   "source": [
    "lats = gdf['lat']\n",
    "lons = gdf['lon']"
   ]
  },
  {
   "cell_type": "code",
   "execution_count": null,
   "id": "cf654ebb",
   "metadata": {
    "scrolled": true
   },
   "outputs": [],
   "source": [
    "m4 = m3\n",
    "for lat, lon in zip(lats, lons):\n",
    "    folium.Circle(location = [lat, lon], radius = radius, color='black', fill_color = 'blue', weight=1).add_to(m4)\n",
    "m4.save('./map/2nd.html')\n",
    "m4"
   ]
  },
  {
   "cell_type": "code",
   "execution_count": null,
   "id": "6f828c42",
   "metadata": {
    "scrolled": true
   },
   "outputs": [],
   "source": [
    "radius = 500\n",
    "M = cnt\n",
    "K = 0\n",
    "l = len(m3_nlsp)\n",
    "\n",
    "new_df = pd.DataFrame(data={'K':[0], 'max_value':[np.round(max_value, 4)], 'mean_value':[np.mean(m3_nlsp['weight'])],\n",
    "                            'N_Grid(value>0)':cnt, 'Grid_Ratio':np.round(cnt/l,4)})\n",
    "new_df['K'] = new_df['K'].astype(int)\n",
    "while True:\n",
    "    K += 1\n",
    "    opt_sites_org, f = mclp(m3_nlsp, K, M, radius)\n",
    "    \n",
    "    opt_df= pd.DataFrame(opt_sites_org, columns=['lon', 'lat'])\n",
    "    opt_df['geom'] = opt_df.apply(lambda row: Point(row['lon'], row['lat']), axis=1)\n",
    "    gdf = gpd.GeoDataFrame(opt_df, geometry='geom', crs='epsg:5179')\n",
    "    gdf = gdf.to_crs('epsg:4326')\n",
    "    gdf['lon'] = gdf['geom'].apply(lambda p:p.x)\n",
    "    gdf['lat'] = gdf['geom'].apply(lambda p:p.y)\n",
    "    lats = gdf['lat']\n",
    "    lons = gdf['lon']\n",
    "    opt_df = gpd.GeoDataFrame(opt_df, geometry='geom', crs='epsg:5179')\n",
    "    opt_df['geometry'] = opt_df.geom.buffer(r)\n",
    "    gdf['circle'] = opt_df['geometry'].to_crs('epsg:4326')\n",
    "\n",
    "    u_tmp = u\n",
    "    for c in gdf['circle']:\n",
    "        u_tmp = u_tmp.union(c)\n",
    "\n",
    "    values = []\n",
    "    for _, row in m3_nlsp.iterrows():\n",
    "        value = value = (1-cal_area(row['geometry'], u)) * (row['lbl']) * ( 1 - 0.5 * cal_area(row['geometry'], pol_u)) * (1 - 0.3 * cal_area(row['geometry'], spol_u)) * (1 + 0.8 * cal_area(row['geometry'], met_u)) * (1 + 0.6 * cal_area(row['geometry'], dep_u))\n",
    "        if value < 0.0005:\n",
    "            value = 0\n",
    "        values.append(value)\n",
    "    max_value = max(values)\n",
    "    \n",
    "    tmp_df = pd.DataFrame({'K':[int(K)], 'max_value':[np.round(max_value, 4)], 'mean_value':[np.mean(values)],\n",
    "                        'N_Grid(value>0)':[cnt-f], 'Grid_Ratio':[np.round((cnt-f)/l,4)]},\n",
    "                         index=[K])\n",
    "    new_df = pd.concat([new_df, tmp_df])\n",
    "\n",
    "    if f == M:\n",
    "        break\n",
    "\n",
    "print(f'최소 {K}개의 여성 안심 택배함으로 모든 취약 지점을 커버할 수 있다.')\n",
    "new_df.to_csv('./result.csv')"
   ]
  },
  {
   "cell_type": "code",
   "execution_count": null,
   "id": "2e804071",
   "metadata": {
    "scrolled": true
   },
   "outputs": [],
   "source": [
    "m5 = folium.Map([lat_c, lon_c], zoom_start = 13)\n",
    "values = m3_nlsp['weight']\n",
    "max_value = max(values)\n",
    "for i, row in m3_nlsp.iterrows():\n",
    "    value = values[i]\n",
    "    sim_geo = gpd.GeoSeries(row['geometry'])\n",
    "    geo_j = sim_geo.to_json()\n",
    "\n",
    "    color = plt.cm.Reds(value/max_value)\n",
    "    color = mpl.colors.to_hex(color)\n",
    "\n",
    "    if value == 0:\n",
    "        geo_j = folium.GeoJson(data=geo_j,\n",
    "                        style_function=lambda feature, color=color: {\n",
    "                                                                        'fillColor': color,\n",
    "                                                                        'color':\"black\",\n",
    "                                                                        'weight': 0.5,\n",
    "                                                                        'dashArray': '5, 5',\n",
    "                                                                        'fillOpacity': 0,\n",
    "                                                                    })\n",
    "    else:\n",
    "        geo_j = folium.GeoJson(data=geo_j,\n",
    "                        style_function=lambda feature, color=color: {\n",
    "                                                                        'fillColor': color,\n",
    "                                                                        'color':\"black\",\n",
    "                                                                        'weight': 0.5,\n",
    "                                                                        'dashArray': '5, 5',\n",
    "                                                                        'fillOpacity': 0.8,\n",
    "                                                                    })\n",
    "\n",
    "\n",
    "    folium.Popup(f'{value:.3f}').add_to(geo_j)\n",
    "    geo_j.add_to(m5)\n",
    "colormap = branca.colormap.linear.Reds_05.scale(0, max_value)\n",
    "colormap = colormap.to_step(index=np.linspace(0, max_value, 1000))\n",
    "colormap.caption = 'lbl × Area Ratio not covered by jae-seor-ham'\n",
    "colormap.add_to(m5)\n",
    "for lat, lon in zip(lats, lons):\n",
    "    folium.Circle(location = [lat, lon], radius = radius, color='black', fill_color = 'blue', weight=1).add_to(m5)\n",
    "m5.save('./map/final.html')\n",
    "m5"
   ]
  }
 ],
 "metadata": {
  "kernelspec": {
   "display_name": "refactoring",
   "language": "python",
   "name": "python3"
  },
  "language_info": {
   "codemirror_mode": {
    "name": "ipython",
    "version": 3
   },
   "file_extension": ".py",
   "mimetype": "text/x-python",
   "name": "python",
   "nbconvert_exporter": "python",
   "pygments_lexer": "ipython3",
   "version": "3.6.13 |Anaconda, Inc.| (default, Mar 16 2021, 11:37:27) [MSC v.1916 64 bit (AMD64)]"
  },
  "toc": {
   "base_numbering": 1,
   "nav_menu": {},
   "number_sections": false,
   "sideBar": true,
   "skip_h1_title": false,
   "title_cell": "Table of Contents",
   "title_sidebar": "Contents",
   "toc_cell": false,
   "toc_position": {},
   "toc_section_display": true,
   "toc_window_display": false
  },
  "vscode": {
   "interpreter": {
    "hash": "cf52b4289ea11db24ca1be6e335ba9be0aad757dbf313a5e44d8aebba2b63a82"
   }
  }
 },
 "nbformat": 4,
 "nbformat_minor": 5
}
